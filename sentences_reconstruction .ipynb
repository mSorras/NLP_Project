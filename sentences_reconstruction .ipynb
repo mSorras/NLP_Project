{
 "cells": [
  {
   "cell_type": "code",
   "execution_count": 1,
   "id": "9b1d29b7",
   "metadata": {},
   "outputs": [
    {
     "name": "stdout",
     "output_type": "stream",
     "text": [
      "Original 1: Hope you too, to enjoy it as my deepest wishes.\n",
      "Reconstructed 1: I also hope you enjoy it, as it comes my sincerest wishes.\n",
      "\n",
      "Original 2: I got this message to see the approved message.\n",
      "Reconstructed 2: I received this message to review the approved one.\n",
      "\n"
     ]
    }
   ],
   "source": [
    "def auto_reconstruct_simple(text):\n",
    "    replacements = {\n",
    "        \"hope you too,\": \"i also hope you\",\n",
    "        \"to enjoy it\": \"enjoy it,\",\n",
    "        \"my deepest wishes\": \"it comes my sincerest wishes\",\n",
    "        \"i got\": \"i received\",\n",
    "        \"to see\": \"to review\",\n",
    "        \"message.\": \"one.\"\n",
    "    }\n",
    "\n",
    "    text_lower = text.lower()\n",
    "\n",
    "    for old, new in replacements.items():\n",
    "        if old in text_lower:\n",
    "            text_lower = text_lower.replace(old, new)\n",
    "\n",
    "    return text_lower.capitalize()\n",
    "\n",
    "original_sentences = [\n",
    "    \"Hope you too, to enjoy it as my deepest wishes.\",\n",
    "    \"I got this message to see the approved message.\"\n",
    "]\n",
    "\n",
    "for i, original in enumerate(original_sentences, 1):\n",
    "    reconstructed = auto_reconstruct_simple(original)\n",
    "    print(f\"Original {i}:\", original)\n",
    "    print(f\"Reconstructed {i}:\", reconstructed)\n",
    "    print()\n"
   ]
  }
 ],
 "metadata": {
  "kernelspec": {
   "display_name": "nlp-assignment",
   "language": "python",
   "name": "python3"
  },
  "language_info": {
   "codemirror_mode": {
    "name": "ipython",
    "version": 3
   },
   "file_extension": ".py",
   "mimetype": "text/x-python",
   "name": "python",
   "nbconvert_exporter": "python",
   "pygments_lexer": "ipython3",
   "version": "3.10.18"
  }
 },
 "nbformat": 4,
 "nbformat_minor": 5
}
