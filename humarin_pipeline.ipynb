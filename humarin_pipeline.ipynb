{
 "cells": [
  {
   "cell_type": "code",
   "execution_count": null,
   "id": "5163dbe1",
   "metadata": {},
   "outputs": [
    {
     "name": "stderr",
     "output_type": "stream",
     "text": [
      "c:\\Users\\thodo\\miniconda3\\envs\\nlp-assignment\\lib\\site-packages\\tqdm\\auto.py:21: TqdmWarning: IProgress not found. Please update jupyter and ipywidgets. See https://ipywidgets.readthedocs.io/en/stable/user_install.html\n",
      "  from .autonotebook import tqdm as notebook_tqdm\n"
     ]
    },
    {
     "name": "stdout",
     "output_type": "stream",
     "text": [
      "ORIGINAL:\n",
      " Today is our dragon boat festival, in our Chinese culture, to celebrate it with all safe and great in our lives. Hope you too, to enjoy it as my deepest wishes. Thank your message to show our words to  the doctor, as his next contract checking, to all of us. I got this message to see the approved message. In fact, I have received the message from  the professor, to show me, this, a couple of days ago.  I am very appreciated  the full support of the professor, for our Springer proceedings publication.\n",
      "\n",
      "PARAPHRASED:\n",
      " Our Chinese culture celebrates today's dragon boat festival with the goal of celebrating with safety and greatness in our lives. May it be enjoyable for you as my thoughts are with you. As the doctor conducts his next contract check, thank you for your message to show us what we should say. The message was sent to me with the intention of viewing the authorized message. The professor sent me a message to show me this a few days ago. The professor's complete backing for our Springer proceedings is greatly appreciated.\n",
      "\n",
      "====================================================================================================\n",
      "\n",
      "ORIGINAL TEXT 2:\n",
      " During our final discuss, I told him about the new submission — the one we were waiting since last autumn, but the updates was confusing as it not included the full feedback from reviewer or maybe editor? Anyway, I believe the team, although bit delay and less communication at recent days, they really tried best for paper and cooperation. We should be grateful, I mean all of us, for the acceptance and efforts until the Springer link came finally last week, I think. Also, kindly remind me please, if the doctor still plan for the acknowledgments section edit before he sending again. Because I didn’t see that part final yet, or maybe I missed, I apologize if so. Overall, let us make sure all are safe and celebrate the outcome with strong coffee and future targets\n",
      "\n",
      "PARAPHRASED TEXT 2:\n",
      " During our last discussion, I shared with him the new submission we had been waiting for last autumn, but the changes were unclear as they did not provide full feedback from the reviewer or editor. Despite experiencing delays and less communication, the team did their best to achieve paper and collaboration, in my opinion. The acceptance and efforts made until the Springer link finally arrived are something we, as a group, should be grateful for. Please keep in mind that the doctor intends to revise the acknowledgments section before resending. Perhaps I didn't witness the final segment, but I'm sorry if that's the case. In the end, we must ensure that everyone is secure and mark the occasion with scrumptious coffee and ambitious goals.\n"
     ]
    }
   ],
   "source": [
    "from transformers import AutoTokenizer, AutoModelForSeq2SeqLM\n",
    "from nltk.tokenize import sent_tokenize\n",
    "import nltk\n",
    "\n",
    "# Φόρτωση μοντέλου και tokenizer\n",
    "model_name = \"humarin/chatgpt_paraphraser_on_T5_base\"\n",
    "tokenizer = AutoTokenizer.from_pretrained(model_name)\n",
    "model = AutoModelForSeq2SeqLM.from_pretrained(model_name)\n",
    "\n",
    "# Συνάρτηση paraphrasing ανά πρόταση\n",
    "def paraphrase_sentence(sentence, max_length=256):\n",
    "    input_text = f\"paraphrase: {sentence}\"\n",
    "    input_ids = tokenizer.encode(input_text, return_tensors=\"pt\", truncation=True)\n",
    "    outputs = model.generate(input_ids, max_length=max_length, num_beams=5, early_stopping=True)\n",
    "    return tokenizer.decode(outputs[0], skip_special_tokens=True)\n",
    "\n",
    "# Πλήρες paraphrasing κειμένου (πρόταση-πρόταση)\n",
    "def paraphrase_full_text(text):\n",
    "    sentences = sent_tokenize(text)\n",
    "    paraphrased_sentences = []\n",
    "    for i, sent in enumerate(sentences):\n",
    "        try:\n",
    "            paraphrased = paraphrase_sentence(sent)\n",
    "            paraphrased_sentences.append(paraphrased)\n",
    "        except Exception as e:\n",
    "            print(f\"Sentence {i+1} failed: {e}\")\n",
    "            paraphrased_sentences.append(sent)  # fallback\n",
    "    return \" \".join(paraphrased_sentences)\n",
    "\n",
    "text1 = \"\"\"Today is our dragon boat festival, in our Chinese culture, to celebrate it with all safe and great in our lives. Hope you too, to enjoy it as my deepest wishes. Thank your message to show our words to  the doctor, as his next contract checking, to all of us. I got this message to see the approved message. In fact, I have received the message from  the professor, to show me, this, a couple of days ago.  I am very appreciated  the full support of the professor, for our Springer proceedings publication.\"\"\"\n",
    "\n",
    "text2 = \"\"\"During our final discuss, I told him about the new submission — the one we were waiting since last autumn, but the updates was confusing as it not included the full feedback from reviewer or maybe editor? Anyway, I believe the team, although bit delay and less communication at recent days, they really tried best for paper and cooperation. We should be grateful, I mean all of us, for the acceptance and efforts until the Springer link came finally last week, I think. Also, kindly remind me please, if the doctor still plan for the acknowledgments section edit before he sending again. Because I didn’t see that part final yet, or maybe I missed, I apologize if so. Overall, let us make sure all are safe and celebrate the outcome with strong coffee and future targets\"\"\"\n",
    "\n",
    "print(\"ORIGINAL TEXT 1:\\n\", text1)\n",
    "print(\"\\nPARAPHRASED TEXT 1:\\n\", paraphrase_full_text(text1))\n",
    "print(\"\\n\" + \"=\"*100 + \"\\n\")\n",
    "print(\"ORIGINAL TEXT 2:\\n\", text2)\n",
    "print(\"\\nPARAPHRASED TEXT 2:\\n\", paraphrase_full_text(text2))"
   ]
  }
 ],
 "metadata": {
  "kernelspec": {
   "display_name": "nlp-assignment",
   "language": "python",
   "name": "python3"
  },
  "language_info": {
   "codemirror_mode": {
    "name": "ipython",
    "version": 3
   },
   "file_extension": ".py",
   "mimetype": "text/x-python",
   "name": "python",
   "nbconvert_exporter": "python",
   "pygments_lexer": "ipython3",
   "version": "3.10.18"
  }
 },
 "nbformat": 4,
 "nbformat_minor": 5
}
